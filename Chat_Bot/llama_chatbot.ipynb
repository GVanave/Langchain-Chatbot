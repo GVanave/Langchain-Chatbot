{
 "cells": [
  {
   "cell_type": "code",
   "execution_count": 44,
   "metadata": {},
   "outputs": [],
   "source": [
    "import sys"
   ]
  },
  {
   "cell_type": "code",
   "execution_count": 1,
   "metadata": {},
   "outputs": [],
   "source": [
    "from langchain_community.llms import CTransformers"
   ]
  },
  {
   "cell_type": "code",
   "execution_count": 2,
   "metadata": {},
   "outputs": [],
   "source": [
    "from langchain.document_loaders.csv_loader import CSVLoader\n",
    "from langchain.text_splitter import RecursiveCharacterTextSplitter\n",
    "from langchain.embeddings import HuggingFaceHubEmbeddings\n",
    "from langchain.vectorstores import FAISS\n",
    "from langchain.llms import CTransformers\n",
    "from langchain import ConversationChain\n",
    "from langchain.chains import ConversationalRetrievalChain"
   ]
  },
  {
   "cell_type": "code",
   "execution_count": 3,
   "metadata": {},
   "outputs": [],
   "source": [
    "import faiss"
   ]
  },
  {
   "cell_type": "code",
   "execution_count": 4,
   "metadata": {},
   "outputs": [],
   "source": [
    "loader = CSVLoader(file_path=r'D:\\llm-dict\\Data\\2019.csv')\n",
    "data = loader.load()"
   ]
  },
  {
   "cell_type": "code",
   "execution_count": 5,
   "metadata": {},
   "outputs": [],
   "source": [
    "#Split the text inot the chunks \n",
    "text_spliter = RecursiveCharacterTextSplitter(chunk_size = 500 , chunk_overlap = 20)"
   ]
  },
  {
   "cell_type": "code",
   "execution_count": 6,
   "metadata": {},
   "outputs": [],
   "source": [
    "text_chunks = text_spliter.split_documents(data)"
   ]
  },
  {
   "cell_type": "code",
   "execution_count": 7,
   "metadata": {},
   "outputs": [
    {
     "name": "stderr",
     "output_type": "stream",
     "text": [
      "d:\\llm-dict\\dict_llm\\lib\\site-packages\\tqdm\\auto.py:21: TqdmWarning: IProgress not found. Please update jupyter and ipywidgets. See https://ipywidgets.readthedocs.io/en/stable/user_install.html\n",
      "  from .autonotebook import tqdm as notebook_tqdm\n"
     ]
    }
   ],
   "source": [
    "embedding = HuggingFaceHubEmbeddings(model = \"sentence-transformers/all-MiniLM-L6-v2\")"
   ]
  },
  {
   "cell_type": "code",
   "execution_count": 8,
   "metadata": {},
   "outputs": [],
   "source": [
    "similarity_match = FAISS.from_documents(text_chunks, embedding)"
   ]
  },
  {
   "cell_type": "code",
   "execution_count": 9,
   "metadata": {},
   "outputs": [],
   "source": [
    "similarity_match.save_local(\"D:\\llm-dict\\Data\")"
   ]
  },
  {
   "cell_type": "code",
   "execution_count": 10,
   "metadata": {},
   "outputs": [
    {
     "name": "stdout",
     "output_type": "stream",
     "text": [
      "[Document(page_content='Overall rank: 1\\nCountry or region: Finland\\nScore: 7.769\\nGDP per capita: 1.340\\nSocial support: 1.587\\nHealthy life expectancy: 0.986\\nFreedom to make life choices: 0.596\\nGenerosity: 0.153\\nPerceptions of corruption: 0.393', metadata={'source': 'D:\\\\llm-dict\\\\Data\\\\2019.csv', 'row': 0}), Document(page_content='Overall rank: 7\\nCountry or region: Sweden\\nScore: 7.343\\nGDP per capita: 1.387\\nSocial support: 1.487\\nHealthy life expectancy: 1.009\\nFreedom to make life choices: 0.574\\nGenerosity: 0.267\\nPerceptions of corruption: 0.373', metadata={'source': 'D:\\\\llm-dict\\\\Data\\\\2019.csv', 'row': 6}), Document(page_content='Overall rank: 53\\nCountry or region: Latvia\\nScore: 5.940\\nGDP per capita: 1.187\\nSocial support: 1.465\\nHealthy life expectancy: 0.812\\nFreedom to make life choices: 0.264\\nGenerosity: 0.075\\nPerceptions of corruption: 0.064', metadata={'source': 'D:\\\\llm-dict\\\\Data\\\\2019.csv', 'row': 52}), Document(page_content='Overall rank: 55\\nCountry or region: Estonia\\nScore: 5.893\\nGDP per capita: 1.237\\nSocial support: 1.528\\nHealthy life expectancy: 0.874\\nFreedom to make life choices: 0.495\\nGenerosity: 0.103\\nPerceptions of corruption: 0.161', metadata={'source': 'D:\\\\llm-dict\\\\Data\\\\2019.csv', 'row': 54})]\n"
     ]
    }
   ],
   "source": [
    "docs = similarity_match.similarity_search(query=\"what is value of GDP percapita of finland provded in the data?\")\n",
    "\n",
    "print(docs)"
   ]
  },
  {
   "cell_type": "code",
   "execution_count": 11,
   "metadata": {},
   "outputs": [],
   "source": [
    "llm = CTransformers(model=r\"C:\\Users\\ganes\\Downloads\\llama-2-7b-chat.ggmlv3.q4_0.bin\", model_type=\"llama\",max_new_token = 512, tempreture = 0.5)"
   ]
  },
  {
   "cell_type": "code",
   "execution_count": 12,
   "metadata": {},
   "outputs": [],
   "source": [
    "qa = ConversationalRetrievalChain.from_llm(llm, retriever = similarity_match.as_retriever())"
   ]
  },
  {
   "cell_type": "code",
   "execution_count": null,
   "metadata": {},
   "outputs": [],
   "source": [
    "\n",
    "chat_history = []\n",
    "\n",
    "query = input(f\"input prompt .....\")\n",
    "\n",
    "if query == \"exit\":\n",
    "    print(\"Exiting\")\n",
    "    sys.exit()\n",
    "\n",
    "\n",
    "result = qa({\"question\": query, \"chat_history\":chat_history})\n",
    "print(\"Response: \", result[\"answer\"])"
   ]
  }
 ],
 "metadata": {
  "kernelspec": {
   "display_name": "dict_llm",
   "language": "python",
   "name": "python3"
  },
  "language_info": {
   "codemirror_mode": {
    "name": "ipython",
    "version": 3
   },
   "file_extension": ".py",
   "mimetype": "text/x-python",
   "name": "python",
   "nbconvert_exporter": "python",
   "pygments_lexer": "ipython3",
   "version": "3.9.7"
  }
 },
 "nbformat": 4,
 "nbformat_minor": 2
}
